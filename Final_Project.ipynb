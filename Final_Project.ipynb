{
 "cells": [
  {
   "cell_type": "code",
   "execution_count": null,
   "id": "68e274aa",
   "metadata": {},
   "outputs": [
    {
     "name": "stdout",
     "output_type": "stream",
     "text": [
      "μ = [0.002592239832991949, 0.004611705992668354, 0.0014443258538598808]\n",
      "Σ = \n"
     ]
    },
    {
     "data": {
      "text/plain": [
       "3×3 Symmetric{Float64, Matrix{Float64}}:\n",
       " 0.0035613    0.00139997   0.000828436\n",
       " 0.00139997   0.00197079   0.000601053\n",
       " 0.000828436  0.000601053  0.00124855"
      ]
     },
     "metadata": {},
     "output_type": "display_data"
    }
   ],
   "source": [
    "using CSV\n",
    "using DataFrames\n",
    "using Dates\n",
    "using Statistics\n",
    "using LinearAlgebra\n",
    "using JuMP\n",
    "using Gurobi\n",
    "\n",
    "data_dir = \"./data\"\n",
    "\n",
    "# ─── HELPERS ───────────────────────────────────────────────────────────────────\n",
    "\n",
    "\"\"\"\n",
    "    compute_returns(prices::Vector{Float64})\n",
    "\n",
    "From a sorted price series returns the vector of simple returns r_t = (P_t/P_{t-1}) - 1\n",
    "\"\"\"\n",
    "function compute_returns(prices::Vector{Float64})\n",
    "    return diff(prices) ./ prices[1:end-1]\n",
    "end\n",
    "\n",
    "# ─── LOAD PRICES & BUILD RETURNS DATAFRAME ────────────────────────────────────\n",
    "\n",
    "# 1. Read each CSV into a (Date, Return) DataFrame\n",
    "# 2. Left-join them all on Date so we have one DataFrame with columns: Date, r1, r2, r3, …\n",
    "\n",
    "dfs = DataFrame[]\n",
    "for file in filter(f->endswith(lowercase(f), \".csv\"), readdir(data_dir; join=true))\n",
    "    df = CSV.read(file, DataFrame)\n",
    "    df.Date = Date.(df.Date, dateformat\"u d, Y\")\n",
    "    sort!(df, :Date)\n",
    "    rs = compute_returns(df.Close)\n",
    "    # drop the first date (no return for it)\n",
    "    df = df[2:end, [:Date]]\n",
    "    df.:return = rs\n",
    "    push!(dfs, df)\n",
    "end\n",
    "\n",
    "# give each return‐column a unique name, e.g. :r1, :r2, …\n",
    "for (i, df) in enumerate(dfs)\n",
    "    rename!(df, :return => Symbol(\"r$i\"))\n",
    "end\n",
    "\n",
    "# join all on Date\n",
    "rets = reduce((a,b)->innerjoin(a, b, on=:Date), dfs)\n",
    "\n",
    "# ─── COMPUTE μ AND Σ ──────────────────────────────────────────────────────────\n",
    "\n",
    "# expected return vector μ\n",
    "μ = [mean(rets[!, Symbol(\"r$i\")]) for i in 1:length(dfs)]\n",
    "\n",
    "# covariance matrix Σ\n",
    "# make a matrix of returns: each column is one asset\n",
    "R = Matrix(rets[:, Not(:Date)])\n",
    "Σ = Symmetric(cov(R, dims=1))  # cov along rows, returns a pxp matrix\n",
    "\n",
    "println(\"μ = \", μ)\n",
    "println(\"Σ = \")\n",
    "display(Σ)\n",
    "\n"
   ]
  },
  {
   "cell_type": "code",
   "execution_count": null,
   "id": "10eb94c5",
   "metadata": {},
   "outputs": [],
   "source": [
    "using JuMP, Gurobi\n",
    "using LinearAlgebra\n",
    "\n",
    "\"\"\"\n",
    "    objective(w, w_prev, Σ, μ, γ, L, λ)\n",
    "\n",
    "Compute\n",
    "\n",
    "    lamda wᵀ sigma w  -  (1-lamda) wᵀ mu  +  ∑ᵢ gamma[i] * |w[i] - w_prev[i]| / L[i]\n",
    "\n",
    "Inputs\n",
    "- `w`       : current weight vector, size n\n",
    "- `w_prev`  : previous weight vector, size n\n",
    "- `sigma`       : n×n covariance matrix\n",
    "- `mu`       : n-vector of expected returns\n",
    "- `gamma`       : n-vector of sparsity penalties\n",
    "- `L`       : n-vector of scaling factors\n",
    "- `lamda`       : scalar trade‐off parameter in [0,1]\n",
    "\"\"\"\n",
    "\n",
    "# — Example usage of objective() directly —\n",
    "n = 3\n",
    "sigma      = Symmetric(randn(n,n))    # example covariance\n",
    "gamma      = abs.(randn(n))\n",
    "L      = rand(n) .+ 0.1          # ensure nonzero\n",
    "w_prev = randn(n)\n",
    "w      = randn(n)\n",
    "lamda      = 0.5\n",
    "\n",
    "model = Model(Gurobi.Optimizer)\n",
    "@variable(model, w[1:n])\n",
    "# (you can add constraints here, e.g. sum(w) == 1, w .>= 0, etc.)\n",
    "@objective(model, Min,\n",
    "    lamda * w' * sigma * w\n",
    "  - (1 - lamda) * dot(w, μ)\n",
    "  + sum( gamma[i] * abs(w[i] - w_prev[i]) / L[i] for i in 1:n )\n",
    ")\n",
    "optimize!(model)"
   ]
  }
 ],
 "metadata": {
  "kernelspec": {
   "display_name": "Julia 1.11.3",
   "language": "julia",
   "name": "julia-1.11"
  },
  "language_info": {
   "file_extension": ".jl",
   "mimetype": "application/julia",
   "name": "julia",
   "version": "1.11.3"
  }
 },
 "nbformat": 4,
 "nbformat_minor": 5
}
